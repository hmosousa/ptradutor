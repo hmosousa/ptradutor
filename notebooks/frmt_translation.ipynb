{
 "cells": [
  {
   "cell_type": "code",
   "execution_count": 1,
   "metadata": {},
   "outputs": [
    {
     "name": "stderr",
     "output_type": "stream",
     "text": [
      "/home/hmosousa/Projects/tradutor_dataset/.conda/lib/python3.11/site-packages/tqdm/auto.py:21: TqdmWarning: IProgress not found. Please update jupyter and ipywidgets. See https://ipywidgets.readthedocs.io/en/stable/user_install.html\n",
      "  from .autonotebook import tqdm as notebook_tqdm\n",
      "None of PyTorch, TensorFlow >= 2.0, or Flax have been found. Models won't be available and only tokenizers, configuration and file/data utilities can be used.\n"
     ]
    }
   ],
   "source": [
    "import multiprocessing as mp\n",
    "\n",
    "import evaluate\n",
    "import datasets\n",
    "\n",
    "from src.translator import Translator\n",
    "\n",
    "N_PROC = mp.cpu_count()"
   ]
  },
  {
   "cell_type": "markdown",
   "metadata": {},
   "source": [
    "Read FRMT dataset."
   ]
  },
  {
   "cell_type": "code",
   "execution_count": 2,
   "metadata": {},
   "outputs": [],
   "source": [
    "frmt = datasets.load_dataset(\"hugosousa/frmt\", split=\"test\")\n",
    "frmt = frmt.filter(lambda x: x[\"pt\"] is not None)\n",
    "frmt = frmt.filter(lambda x: x[\"br\"] is not None)\n",
    "frmt = frmt.remove_columns([\"tw\", \"cn\", \"tw_simplified\"])\n",
    "frmt = frmt.to_pandas().drop_duplicates()\n",
    "frmt = datasets.Dataset.from_pandas(frmt)"
   ]
  },
  {
   "cell_type": "markdown",
   "metadata": {},
   "source": [
    "Built the translator."
   ]
  },
  {
   "cell_type": "code",
   "execution_count": 3,
   "metadata": {},
   "outputs": [],
   "source": [
    "translator = Translator(\"pt\", \"en\")"
   ]
  },
  {
   "cell_type": "markdown",
   "metadata": {},
   "source": [
    "Make the translations from PT."
   ]
  },
  {
   "cell_type": "code",
   "execution_count": 4,
   "metadata": {},
   "outputs": [],
   "source": [
    "def translate(example):\n",
    "    example[\"pt_en\"] = translator.translate(example[\"pt\"])\n",
    "    example[\"br_en\"] = translator.translate(example[\"pt\"])\n",
    "    return example"
   ]
  },
  {
   "cell_type": "code",
   "execution_count": 5,
   "metadata": {},
   "outputs": [
    {
     "name": "stderr",
     "output_type": "stream",
     "text": [
      "Map (num_proc=96): 100%|██████████| 2611/2611 [00:35<00:00, 74.30 examples/s] \n"
     ]
    }
   ],
   "source": [
    "frmt = frmt.map(lambda x: translate(x), num_proc=N_PROC)"
   ]
  },
  {
   "cell_type": "markdown",
   "metadata": {},
   "source": [
    "Evaluate the translations."
   ]
  },
  {
   "cell_type": "code",
   "execution_count": 6,
   "metadata": {},
   "outputs": [
    {
     "name": "stdout",
     "output_type": "stream",
     "text": [
      "Number of examples where pt_en and br_en are the same: 2277/2611\n"
     ]
    }
   ],
   "source": [
    "# count the number of examples that pt_en and br_en are the same\n",
    "count = 0\n",
    "for example in frmt:\n",
    "    if example[\"pt_en\"] == example[\"br_en\"]:\n",
    "        count += 1\n",
    "print(f\"Number of examples where pt_en and br_en are the same: {count}/{len(frmt)}\")"
   ]
  },
  {
   "cell_type": "code",
   "execution_count": 7,
   "metadata": {},
   "outputs": [],
   "source": [
    "blue = evaluate.load(\"bleu\")"
   ]
  },
  {
   "cell_type": "code",
   "execution_count": 8,
   "metadata": {},
   "outputs": [
    {
     "name": "stdout",
     "output_type": "stream",
     "text": [
      "BLEU score for pt: 0.51\n",
      "{'bleu': 0.5074696103170111, 'precisions': [0.7640640934300044, 0.5652728643507511, 0.44074922395346733, 0.3483859836245569], 'brevity_penalty': 1.0, 'length_ratio': 1.0153761046255976, 'translation_length': 71583, 'reference_length': 70499}\n"
     ]
    }
   ],
   "source": [
    "blue_pt = blue.compute(predictions=frmt[\"pt_en\"], references=frmt[\"en\"])\n",
    "print(f\"BLEU score for pt: {blue_pt['bleu']:.2f}\")\n",
    "print(blue_pt)\n"
   ]
  },
  {
   "cell_type": "code",
   "execution_count": 9,
   "metadata": {},
   "outputs": [
    {
     "name": "stdout",
     "output_type": "stream",
     "text": [
      "BLEU score for br: 0.51\n",
      "{'bleu': 0.5062229945125449, 'precisions': [0.7638807388157711, 0.5642735959862535, 0.4393471282383615, 0.34677229586634245], 'brevity_penalty': 1.0, 'length_ratio': 1.0152484432403297, 'translation_length': 71574, 'reference_length': 70499}\n"
     ]
    }
   ],
   "source": [
    "blue_br = blue.compute(predictions=frmt[\"br_en\"], references=frmt[\"en\"])\n",
    "print(f\"BLEU score for br: {blue_br['bleu']:.2f}\")\n",
    "print(blue_br)"
   ]
  },
  {
   "cell_type": "code",
   "execution_count": 10,
   "metadata": {},
   "outputs": [
    {
     "name": "stdout",
     "output_type": "stream",
     "text": [
      "BLEU score for pt_br: 0.97\n",
      "{'bleu': 0.9680847157768272, 'precisions': [0.986615251348255, 0.9724054928004873, 0.9617349630009193, 0.9524041101262845], 'brevity_penalty': 0.9998742639201975, 'length_ratio': 0.9998742718243159, 'translation_length': 71574, 'reference_length': 71583}\n"
     ]
    }
   ],
   "source": [
    "blue_pt_br = blue.compute(predictions=frmt[\"br_en\"], references=frmt[\"pt_en\"])\n",
    "print(f\"BLEU score for pt_br: {blue_pt_br['bleu']:.2f}\")\n",
    "print(blue_pt_br)"
   ]
  },
  {
   "cell_type": "markdown",
   "metadata": {},
   "source": [
    "Checkout the differences."
   ]
  },
  {
   "cell_type": "code",
   "execution_count": 20,
   "metadata": {},
   "outputs": [
    {
     "name": "stderr",
     "output_type": "stream",
     "text": [
      "Filter: 100%|██████████| 2611/2611 [00:00<00:00, 43300.43 examples/s]\n"
     ]
    }
   ],
   "source": [
    "errors = frmt.filter(lambda x: x[\"pt_en\"] != x[\"br_en\"])"
   ]
  },
  {
   "cell_type": "code",
   "execution_count": 26,
   "metadata": {},
   "outputs": [
    {
     "name": "stdout",
     "output_type": "stream",
     "text": [
      "en:\tA dense forest that existed until the 20th century, in Quinta da Cerca in this area, that protected and sheltered the settlement from winds.\n",
      "pt_en:\tA dense forest that existed until the 20th century, in Quinta da Cerca in this area, which protected and sheltered the village from the winds.\n",
      "br_en:\tA dense forest that existed until the 20th century, at Quinta da Cerca in this area, which protected and sheltered the village from the winds.\n",
      "\n",
      "en:\tA hierarchy of buses of six sizes feed one other.\n",
      "pt_en:\tA hierarchy of buses of six sizes are controlled automatically.\n",
      "br_en:\tA hierarchy of buses of six sizes are automatically controlled.\n",
      "\n",
      "en:\tA punch line used by then, O Beirão de que todos gostam (port.\n",
      "pt_en:\tThe closing phrase used at the time, \"The Beirão that everyone likes\",\n",
      "br_en:\tThe shot used at the time, \"O Beirão that everyone likes\",\n",
      "\n",
      "en:\tA well-known spa town is Caldas de Monchique.\n",
      "pt_en:\tSome very well-known spas are Caldas de Monchique.\n",
      "br_en:\tOne very well-known spa is Caldas de Monchique.\n",
      "\n",
      "en:\tAfter that, any additional herbs (yuyo, in Portuguese jujo) may be added for either health or flavor benefits, a practice most common in Paraguay, where people acquire herbs from a local yuyera (herbalist) and use the mate as a base for their herbal infusions.\n",
      "pt_en:\tOther herbs (\"yuyo\" in Portuguese, jujo) may also be added, as they are beneficial to health or improve the flavor. This is a very common practice in Paraguay, where people buy herbs from a local \"yuyera\" (herbalist) and use mate as the base for their herbal infusions.\n",
      "br_en:\tThen, other herbs (\"yuyo\", in Portuguese, jujo), can also be added, as they are beneficial to health or improve the flavor. This is a very common practice in Paraguay, where people purchase herbs from a local \"yuyera\" (herbalist) and use mate as the base for their herbal infusions.\n",
      "\n",
      "en:\tAfter their expulsion in the 1770s, the Jesuit missions — along with the yerba mate plantations — fell into ruins.\n",
      "pt_en:\tAfter their expulsion in the 1770s, the Jesuit missions, as well as the yerba mate plantations, were left in ruins.\n",
      "br_en:\tAfter their expulsion in the 1770s, the Jesuit missions, as well as the yerba mate plantations, fell into ruins.\n",
      "\n",
      "en:\tAlthough Santos failed to retain the state title next season, the club remained undefeated in international matches during the 1930s, with seven wins and one draw.\n",
      "pt_en:\tAlthough Santos was unable to retain the state title the following season, the club remained undefeated in international matches during the 1930s, with seven wins and one draw.\n",
      "br_en:\tAlthough Santos failed to retain the state title the following season, the club remained undefeated in international matches during the 1930s, with seven wins and one draw.\n",
      "\n",
      "en:\tAlthough it is unclear the areas importance within Olissipo, its agricultural contributions may have contributed to its strong settlement during the period.\n",
      "pt_en:\tAlthough the importance of the area in Olissipo is unclear, its agricultural contribution may have contributed to strong settlement during the period.\n",
      "br_en:\tAlthough the importance of the area in Olissipo is not clear, its agricultural contribution may have contributed to a strong settlement during the period.\n",
      "\n",
      "en:\tAlthough modern archaeological excavations show a Phoenician presence at this location since 1200 BC, this folk etymology has no historical credibility.\n",
      "pt_en:\tAlthough modern archaeological excavations indicate a Phoenician presence in this city since 1200 BC, this popular etymology has no historical credibility.\n",
      "br_en:\tAlthough modern archaeological excavations indicate Phoenician presence in this city since 1200 BC, this popular etymology has no historical credibility.\n",
      "\n",
      "en:\tAlthough the first fortifications on Lisbon's Castelo hill are known to be no older than the 2nd century BC, recent archaeological finds have shown that Iron Age people occupied the site from the 8th to 6th centuries BC.\n",
      "pt_en:\tAlthough the first fortifications on the hills of Lisbon Castle do not date back to later than the second century BC, recent archaeological discoveries prove that Iron Age inhabitants occupied the region between the 8th and 6th centuries BC.\n",
      "br_en:\tAlthough the first fortifications on the hills of Lisbon Castle did not date back to the second century BC, recent archaeological discoveries prove that Iron Age inhabitants occupied the region between the 8th and 6th centuries BC.\n",
      "\n"
     ]
    }
   ],
   "source": [
    "# print the first 10 errors\n",
    "for example in errors.select(range(10)):\n",
    "    print(f\"en:\\t{example['en']}\")\n",
    "    print(f\"pt_en:\\t{example['pt_en']}\")\n",
    "    print(f\"br_en:\\t{example['br_en']}\")\n",
    "    print()"
   ]
  },
  {
   "cell_type": "code",
   "execution_count": null,
   "metadata": {},
   "outputs": [],
   "source": []
  }
 ],
 "metadata": {
  "kernelspec": {
   "display_name": "Python 3",
   "language": "python",
   "name": "python3"
  },
  "language_info": {
   "codemirror_mode": {
    "name": "ipython",
    "version": 3
   },
   "file_extension": ".py",
   "mimetype": "text/x-python",
   "name": "python",
   "nbconvert_exporter": "python",
   "pygments_lexer": "ipython3",
   "version": "3.11.8"
  }
 },
 "nbformat": 4,
 "nbformat_minor": 2
}
