{
 "cells": [
  {
   "cell_type": "code",
   "execution_count": 2,
   "metadata": {},
   "outputs": [
    {
     "name": "stderr",
     "output_type": "stream",
     "text": [
      "/home/hmosousa/Projects/tradutor_dataset/.conda/lib/python3.11/site-packages/tqdm/auto.py:21: TqdmWarning: IProgress not found. Please update jupyter and ipywidgets. See https://ipywidgets.readthedocs.io/en/stable/user_install.html\n",
      "  from .autonotebook import tqdm as notebook_tqdm\n"
     ]
    }
   ],
   "source": [
    "from collections import Counter\n",
    "\n",
    "import datasets\n",
    "import tiktoken\n",
    "import numpy as np"
   ]
  },
  {
   "cell_type": "markdown",
   "metadata": {},
   "source": [
    "# Raw"
   ]
  },
  {
   "cell_type": "code",
   "execution_count": 3,
   "metadata": {},
   "outputs": [],
   "source": [
    "raw = datasets.load_dataset(\"liaad/PTradutor\", \"raw\")"
   ]
  },
  {
   "cell_type": "markdown",
   "metadata": {},
   "source": [
    "#### Count the number of tokens"
   ]
  },
  {
   "cell_type": "code",
   "execution_count": 3,
   "metadata": {},
   "outputs": [],
   "source": [
    "encoder = tiktoken.get_encoding(\"cl100k_base\")"
   ]
  },
  {
   "cell_type": "markdown",
   "metadata": {},
   "source": [
    "On the train set."
   ]
  },
  {
   "cell_type": "code",
   "execution_count": 4,
   "metadata": {},
   "outputs": [
    {
     "name": "stdout",
     "output_type": "stream",
     "text": [
      "Number of tokens in the training set in english: 307348193\n"
     ]
    }
   ],
   "source": [
    "n_tokens_train_en = sum(len(encoder.encode(example[\"en\"])) for example in raw[\"train\"])\n",
    "print(f\"Number of tokens in the training set in english: {n_tokens_train_en}\")"
   ]
  },
  {
   "cell_type": "code",
   "execution_count": 5,
   "metadata": {},
   "outputs": [
    {
     "name": "stdout",
     "output_type": "stream",
     "text": [
      "Number of tokens in the training set in portuguese: 404133911\n"
     ]
    }
   ],
   "source": [
    "n_tokens_train_pt = sum(len(encoder.encode(example[\"pt\"])) for example in raw[\"train\"])\n",
    "print(f\"Number of tokens in the training set in portuguese: {n_tokens_train_pt}\")"
   ]
  },
  {
   "cell_type": "code",
   "execution_count": 6,
   "metadata": {},
   "outputs": [
    {
     "name": "stdout",
     "output_type": "stream",
     "text": [
      "Number of tokens in the training set in total: 711482104\n"
     ]
    }
   ],
   "source": [
    "print(f\"Number of tokens in the training set in total: {n_tokens_train_en + n_tokens_train_pt}\")"
   ]
  },
  {
   "cell_type": "markdown",
   "metadata": {},
   "source": [
    "On the test set."
   ]
  },
  {
   "cell_type": "code",
   "execution_count": 7,
   "metadata": {},
   "outputs": [
    {
     "name": "stdout",
     "output_type": "stream",
     "text": [
      "Number of tokens in the test set in english: 74899\n"
     ]
    }
   ],
   "source": [
    "n_tokens_test_en = sum(len(encoder.encode(example[\"en\"])) for example in raw[\"test\"])\n",
    "print(f\"Number of tokens in the test set in english: {n_tokens_test_en}\")"
   ]
  },
  {
   "cell_type": "code",
   "execution_count": 8,
   "metadata": {},
   "outputs": [
    {
     "name": "stdout",
     "output_type": "stream",
     "text": [
      "Number of tokens in the test set in portuguese: 100911\n"
     ]
    }
   ],
   "source": [
    "n_tokens_test_pt = sum(len(encoder.encode(example[\"pt\"])) for example in raw[\"test\"])\n",
    "print(f\"Number of tokens in the test set in portuguese: {n_tokens_test_pt}\")"
   ]
  },
  {
   "cell_type": "markdown",
   "metadata": {},
   "source": [
    "## Number of tokens that start with the same `n_chars`"
   ]
  },
  {
   "cell_type": "code",
   "execution_count": 9,
   "metadata": {},
   "outputs": [
    {
     "name": "stderr",
     "output_type": "stream",
     "text": [
      "Map (num_proc=96): 100%|██████████| 3944464/3944464 [00:14<00:00, 274258.81 examples/s]\n",
      "Map (num_proc=96): 100%|██████████| 857/857 [00:00<00:00, 1857.27 examples/s]\n"
     ]
    }
   ],
   "source": [
    "n_chars = 60\n",
    "raw = raw.map(lambda x: {\"start\": x[\"pt\"][:n_chars], \"end\": x[\"pt\"][-n_chars:]}, num_proc=96)\n"
   ]
  },
  {
   "cell_type": "code",
   "execution_count": 10,
   "metadata": {},
   "outputs": [
    {
     "ename": "KeyError",
     "evalue": "'start'",
     "output_type": "error",
     "traceback": [
      "\u001b[0;31m---------------------------------------------------------------------------\u001b[0m",
      "\u001b[0;31mKeyError\u001b[0m                                  Traceback (most recent call last)",
      "Cell \u001b[0;32mIn[10], line 1\u001b[0m\n\u001b[0;32m----> 1\u001b[0m \u001b[43mraw\u001b[49m\u001b[43m[\u001b[49m\u001b[38;5;124;43m\"\u001b[39;49m\u001b[38;5;124;43mstart\u001b[39;49m\u001b[38;5;124;43m\"\u001b[39;49m\u001b[43m]\u001b[49m\n",
      "File \u001b[0;32m~/Projects/tradutor_dataset/.conda/lib/python3.11/site-packages/datasets/dataset_dict.py:74\u001b[0m, in \u001b[0;36mDatasetDict.__getitem__\u001b[0;34m(self, k)\u001b[0m\n\u001b[1;32m     72\u001b[0m \u001b[38;5;28;01mdef\u001b[39;00m \u001b[38;5;21m__getitem__\u001b[39m(\u001b[38;5;28mself\u001b[39m, k) \u001b[38;5;241m-\u001b[39m\u001b[38;5;241m>\u001b[39m Dataset:\n\u001b[1;32m     73\u001b[0m     \u001b[38;5;28;01mif\u001b[39;00m \u001b[38;5;28misinstance\u001b[39m(k, (\u001b[38;5;28mstr\u001b[39m, NamedSplit)) \u001b[38;5;129;01mor\u001b[39;00m \u001b[38;5;28mlen\u001b[39m(\u001b[38;5;28mself\u001b[39m) \u001b[38;5;241m==\u001b[39m \u001b[38;5;241m0\u001b[39m:\n\u001b[0;32m---> 74\u001b[0m         \u001b[38;5;28;01mreturn\u001b[39;00m \u001b[38;5;28;43msuper\u001b[39;49m\u001b[43m(\u001b[49m\u001b[43m)\u001b[49m\u001b[38;5;241;43m.\u001b[39;49m\u001b[38;5;21;43m__getitem__\u001b[39;49m\u001b[43m(\u001b[49m\u001b[43mk\u001b[49m\u001b[43m)\u001b[49m\n\u001b[1;32m     75\u001b[0m     \u001b[38;5;28;01melse\u001b[39;00m:\n\u001b[1;32m     76\u001b[0m         available_suggested_splits \u001b[38;5;241m=\u001b[39m [\n\u001b[1;32m     77\u001b[0m             split \u001b[38;5;28;01mfor\u001b[39;00m split \u001b[38;5;129;01min\u001b[39;00m (Split\u001b[38;5;241m.\u001b[39mTRAIN, Split\u001b[38;5;241m.\u001b[39mTEST, Split\u001b[38;5;241m.\u001b[39mVALIDATION) \u001b[38;5;28;01mif\u001b[39;00m split \u001b[38;5;129;01min\u001b[39;00m \u001b[38;5;28mself\u001b[39m\n\u001b[1;32m     78\u001b[0m         ]\n",
      "\u001b[0;31mKeyError\u001b[0m: 'start'"
     ]
    }
   ],
   "source": [
    "raw[\"start\"]"
   ]
  },
  {
   "cell_type": "code",
   "execution_count": 5,
   "metadata": {},
   "outputs": [
    {
     "name": "stdout",
     "output_type": "stream",
     "text": [
      "Number of unique starts 3862445 out of 3944464\n"
     ]
    }
   ],
   "source": [
    "_ , unique_starts_idxs = np.unique(raw[\"start\"], return_index=True, axis=0)\n",
    "print(f\"Number of unique starts {len(unique_starts_idxs)} out of {len(raw)}\")"
   ]
  },
  {
   "cell_type": "code",
   "execution_count": 6,
   "metadata": {},
   "outputs": [
    {
     "name": "stdout",
     "output_type": "stream",
     "text": [
      "Number of unique ends 3870791 out of 3944464\n"
     ]
    }
   ],
   "source": [
    "_ , unique_ends_idxs = np.unique(raw_train[\"end\"], return_index=True, axis=0)\n",
    "print(f\"Number of unique ends {len(unique_ends_idxs)} out of {len(raw_train)}\")"
   ]
  },
  {
   "cell_type": "code",
   "execution_count": 7,
   "metadata": {},
   "outputs": [
    {
     "name": "stdout",
     "output_type": "stream",
     "text": [
      "Number of unique starts and ends 3806658 out of 3944464\n"
     ]
    }
   ],
   "source": [
    "unique_idxs = set.intersection(set(unique_starts_idxs), set(unique_ends_idxs))\n",
    "print(f\"Number of unique starts and ends {len(unique_idxs)} out of {len(raw_train)}\")\n"
   ]
  },
  {
   "cell_type": "code",
   "execution_count": 8,
   "metadata": {},
   "outputs": [
    {
     "data": {
      "text/plain": [
       "Dataset({\n",
       "    features: ['idx', 'source', 'domain', 'pt', 'en', 'start', 'end'],\n",
       "    num_rows: 3806658\n",
       "})"
      ]
     },
     "execution_count": 8,
     "metadata": {},
     "output_type": "execute_result"
    }
   ],
   "source": [
    "filtered_raw = raw_train.select(list(unique_idxs))\n",
    "filtered_raw"
   ]
  },
  {
   "cell_type": "markdown",
   "metadata": {},
   "source": [
    "# Clean"
   ]
  },
  {
   "cell_type": "code",
   "execution_count": 3,
   "metadata": {},
   "outputs": [],
   "source": [
    "clean = datasets.load_dataset(\"liaad/PTradutor\", \"clean\")"
   ]
  },
  {
   "cell_type": "markdown",
   "metadata": {},
   "source": [
    "Looking at the most common starts."
   ]
  },
  {
   "cell_type": "code",
   "execution_count": 31,
   "metadata": {},
   "outputs": [
    {
     "data": {
      "text/plain": [
       "[('É este o nosso plano de festas para Black Friday! Fica atento, participa e habilita-te a ganhar prém',\n",
       "  873),\n",
       " ('As restrições derivadas do combate à Pandemia são uma Ditadura Sanitária. Estamos todos reféns. O Pr',\n",
       "  444),\n",
       " ('Acabei de publicar uma foto em Portugal', 361),\n",
       " ('Sugiro que as pessoas Ignorem as Diretrizes do Governo e ajam de acordo com o bom Senso. -O Gabinete',\n",
       "  299),\n",
       " ('Acabei de publicar uma foto em Lisbon, Portugal', 203),\n",
       " ('Acabei de publicar um vídeo em Portugal', 189),\n",
       " ('A tua odd da sorte é no Toni Martinez a marcar ao Sporting! Se isto acontecer habilitas-te a ganhar ',\n",
       "  184),\n",
       " ('A tua odd da sorte é no Sporting vence e acima de 1,5 golos! Se isto acontecer habilitas-te a ganhar',\n",
       "  181),\n",
       " ('A tua odd da sorte é no Sporting ou empate e acima de 1,5 golos! Se isto acontecer habilitas-te a ga',\n",
       "  178),\n",
       " ('A tua odd da sorte é no Nuno Santos a marcar ao Porto! Se isto acontecer habilitas-te a ganhar 10€ e',\n",
       "  178),\n",
       " ('A tua odd da sorte é no Sporting vence ao Intervalo e Final! Se isto acontecer habilitas-te a ganhar',\n",
       "  178),\n",
       " ('A tua odd da sorte é no Porto vence ao Intervalo e Final! Se isto acontecer habilitas-te a ganhar 10',\n",
       "  177),\n",
       " ('A tua odd da sorte é no Bruno Tabata a marcar ao Porto! Se isto acontecer habilitas-te a ganhar 10€ ',\n",
       "  176),\n",
       " ('A tua odd da sorte é no Porto vence e acima de 1,5 golos! Se isto acontecer habilitas-te a ganhar 10',\n",
       "  175),\n",
       " ('A tua odd da sorte é no Marega a marcar ao Sporting! Se isto acontecer habilitas-te a ganhar 10€ em ',\n",
       "  171),\n",
       " ('A tua odd da sorte é no Tiago Tomás a marcar ao Porto! Se isto acontecer habilitas-te a ganhar 10€ e',\n",
       "  170),\n",
       " ('A tua odd da sorte é no Porto vence! Se isto acontecer habilitas-te a ganhar 10€ em Bónus! Achas que',\n",
       "  168),\n",
       " ('A tua odd da sorte é no Empate entre o Sporting e Porto! Se isto acontecer habilitas-te a ganhar 10€',\n",
       "  166),\n",
       " ('A tua odd da sorte é no Porto ou empate e acima de 1,5 golos! Se isto acontecer habilitas-te a ganha',\n",
       "  165),\n",
       " ('A tua odd da sorte é no Acima de 2,5 golos no encontro! Se isto acontecer habilitas-te a ganhar 10€ ',\n",
       "  165),\n",
       " ('A tua odd da sorte é no Sporting vence! Se isto acontecer habilitas-te a ganhar 10€ em Bónus! Achas ',\n",
       "  157),\n",
       " ('Peça-nos mais informação.', 151),\n",
       " ('A tua odd da sorte é no Porto marca o 1º golo! Se isto acontecer habilitas-te a ganhar 10€ em Bónus!',\n",
       "  151),\n",
       " ('Acabei de publicar uma foto em Porto, Portugal', 145),\n",
       " ('PANDEMIA UMA DITADURA SANITÁRIA -Simplesmente devemos Ignorar as Ordens do Executivo relativamente a',\n",
       "  137),\n",
       " ('PELA VOSSA SAÚDE MÁSCARAS NÃO.! É imperioso quebrar o ciclo de submissão e subordinação do País ao U',\n",
       "  130),\n",
       " ('A utilização da máscara cirúrgica só termina quando a coloca no lixo. Não deite a máscara para o chã',\n",
       "  120),\n",
       " ('A caminho de um novo confinamento! Continuem a manter na gaveta a APP do .',\n",
       "  120),\n",
       " ('Acabei de publicar uma foto em Mostarda & Chocolate', 118),\n",
       " ('Acabei de assinar a petição do  \"Polónia Fora do Armário\" . Assina também:',\n",
       "  113)]"
      ]
     },
     "execution_count": 31,
     "metadata": {},
     "output_type": "execute_result"
    }
   ],
   "source": [
    "start = clean[\"train\"].map(lambda x: {\"start\": x[\"pt\"][:100]}, num_proc=96)\n",
    "count = Counter(start[\"start\"])\n",
    "count.most_common(30)"
   ]
  },
  {
   "cell_type": "markdown",
   "metadata": {},
   "source": [
    "Looking at the most common ends."
   ]
  },
  {
   "cell_type": "code",
   "execution_count": 36,
   "metadata": {},
   "outputs": [
    {
     "name": "stderr",
     "output_type": "stream",
     "text": [
      "Map (num_proc=96): 100%|██████████| 3263624/3263624 [00:15<00:00, 206785.40 examples/s]\n"
     ]
    },
    {
     "data": {
      "text/plain": [
       "[('o plano de festas para Black Friday! Fica atento, participa e habilita-te a ganhar prémios à grande!',\n",
       "  873),\n",
       " ('Acabei de publicar uma foto em Portugal', 361),\n",
       " ('Parlamento. Sugiro que as pessoas Ignorem as Diretrizes do Governo e ajam de acordo com o bom Senso.',\n",
       "  352),\n",
       " (' ou empate e acima de 1,5 golos! Se isto acontecer habilitas-te a ganhar 10€ em Bónus! Achas que dá?',\n",
       "  343),\n",
       " ('Acabei de publicar uma foto em Lisbon, Portugal', 203),\n",
       " ('Acabei de publicar um vídeo em Portugal', 189),\n",
       " ('itária entregues às autoridades locais. -O Governo Perdeu a Confiança das Pessoas e já não a merece.',\n",
       "  189),\n",
       " ('i Martinez a marcar ao Sporting! Se isto acontecer habilitas-te a ganhar 10€ em Bónus! Achas que dá?',\n",
       "  184),\n",
       " ('ting vence e acima de 1,5 golos! Se isto acontecer habilitas-te a ganhar 10€ em Bónus! Achas que dá?',\n",
       "  181),\n",
       " ('o Nuno Santos a marcar ao Porto! Se isto acontecer habilitas-te a ganhar 10€ em Bónus! Achas que dá?',\n",
       "  178),\n",
       " ('ting vence ao Intervalo e Final! Se isto acontecer habilitas-te a ganhar 10€ em Bónus! Achas que dá?',\n",
       "  178),\n",
       " ('orto vence ao Intervalo e Final! Se isto acontecer habilitas-te a ganhar 10€ em Bónus! Achas que dá?',\n",
       "  177),\n",
       " (' Bruno Tabata a marcar ao Porto! Se isto acontecer habilitas-te a ganhar 10€ em Bónus! Achas que dá?',\n",
       "  176),\n",
       " ('orto vence e acima de 1,5 golos! Se isto acontecer habilitas-te a ganhar 10€ em Bónus! Achas que dá?',\n",
       "  175),\n",
       " (' no Marega a marcar ao Sporting! Se isto acontecer habilitas-te a ganhar 10€ em Bónus! Achas que dá?',\n",
       "  171),\n",
       " ('o Tiago Tomás a marcar ao Porto! Se isto acontecer habilitas-te a ganhar 10€ em Bónus! Achas que dá?',\n",
       "  170),\n",
       " ('a odd da sorte é no Porto vence! Se isto acontecer habilitas-te a ganhar 10€ em Bónus! Achas que dá?',\n",
       "  168),\n",
       " ('Empate entre o Sporting e Porto! Se isto acontecer habilitas-te a ganhar 10€ em Bónus! Achas que dá?',\n",
       "  166),\n",
       " (' Acima de 2,5 golos no encontro! Se isto acontecer habilitas-te a ganhar 10€ em Bónus! Achas que dá?',\n",
       "  165),\n",
       " ('dd da sorte é no Sporting vence! Se isto acontecer habilitas-te a ganhar 10€ em Bónus! Achas que dá?',\n",
       "  157),\n",
       " ('Peça-nos mais informação.', 151),\n",
       " ('orte é no Porto marca o 1º golo! Se isto acontecer habilitas-te a ganhar 10€ em Bónus! Achas que dá?',\n",
       "  151),\n",
       " ('Acabei de publicar uma foto em Porto, Portugal', 145),\n",
       " (' de Pós-Graduação em Avaliação e Intervenção com Famílias em Crise, Risco e Perigo. Mais informações',\n",
       "  140),\n",
       " ('ndemia. As razões que apresentam: são ilegais e servem para manter a população refém dos interesses.',\n",
       "  137),\n",
       " ('ixo. Não deite a máscara para o chão! Cuide do Ambiente. Saiba mais em  Cuide de si, cuide de todos!',\n",
       "  120),\n",
       " ('A caminho de um novo confinamento! Continuem a manter na gaveta a APP do .',\n",
       "  120),\n",
       " ('Acabei de publicar uma foto em Mostarda & Chocolate', 118),\n",
       " ('Acabei de assinar a petição do  \"Polónia Fora do Armário\" . Assina também:',\n",
       "  113),\n",
       " ('nitária entregues às autoridades locais. O Governo Perdeu a Confiança das Pessoas e já não a merece.',\n",
       "  110)]"
      ]
     },
     "execution_count": 36,
     "metadata": {},
     "output_type": "execute_result"
    }
   ],
   "source": [
    "end = clean[\"train\"].map(lambda x: {\"end\": x[\"pt\"][-100:]}, num_proc=96)\n",
    "count = Counter(end[\"end\"])\n",
    "count.most_common(30)"
   ]
  },
  {
   "cell_type": "markdown",
   "metadata": {},
   "source": [
    "Filter out duplicates"
   ]
  },
  {
   "cell_type": "code",
   "execution_count": 41,
   "metadata": {},
   "outputs": [
    {
     "name": "stderr",
     "output_type": "stream",
     "text": [
      "Filter (num_proc=96): 100%|██████████| 3263624/3263624 [00:01<00:00, 2058857.20 examples/s]\n"
     ]
    }
   ],
   "source": [
    "initial_list = raw[\"train\"].filter(lambda example: (example['idx'], example['pt'][:n_chars]), num_proc=96)"
   ]
  },
  {
   "cell_type": "code",
   "execution_count": 42,
   "metadata": {},
   "outputs": [
    {
     "data": {
      "text/plain": [
       "Dataset({\n",
       "    features: ['idx', 'source', 'domain', 'pt', 'en'],\n",
       "    num_rows: 3263624\n",
       "})"
      ]
     },
     "execution_count": 42,
     "metadata": {},
     "output_type": "execute_result"
    }
   ],
   "source": [
    "initial_list"
   ]
  },
  {
   "cell_type": "code",
   "execution_count": null,
   "metadata": {},
   "outputs": [],
   "source": []
  }
 ],
 "metadata": {
  "kernelspec": {
   "display_name": "Python 3",
   "language": "python",
   "name": "python3"
  },
  "language_info": {
   "codemirror_mode": {
    "name": "ipython",
    "version": 3
   },
   "file_extension": ".py",
   "mimetype": "text/x-python",
   "name": "python",
   "nbconvert_exporter": "python",
   "pygments_lexer": "ipython3",
   "version": "3.11.8"
  }
 },
 "nbformat": 4,
 "nbformat_minor": 2
}
