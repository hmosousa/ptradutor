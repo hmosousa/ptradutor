{
 "cells": [
  {
   "cell_type": "code",
   "execution_count": null,
   "metadata": {},
   "outputs": [],
   "source": [
    "import datasets\n",
    "import tiktoken"
   ]
  },
  {
   "cell_type": "code",
   "execution_count": 2,
   "metadata": {},
   "outputs": [
    {
     "name": "stderr",
     "output_type": "stream",
     "text": [
      "Downloading readme: 100%|██████████| 514/514 [00:00<00:00, 1.52MB/s]\n",
      "Downloading data: 100%|██████████| 304M/304M [00:05<00:00, 60.5MB/s] \n",
      "Downloading data: 100%|██████████| 107M/107M [00:02<00:00, 37.6MB/s] \n",
      "Downloading data: 100%|██████████| 107M/107M [00:02<00:00, 44.7MB/s] \n",
      "Downloading data: 100%|██████████| 107M/107M [00:02<00:00, 41.7MB/s] \n",
      "Downloading data: 100%|██████████| 322M/322M [00:05<00:00, 62.3MB/s] \n",
      "Downloading data: 100%|██████████| 539M/539M [00:09<00:00, 56.4MB/s] \n",
      "Downloading data: 100%|██████████| 538M/538M [00:08<00:00, 62.7MB/s] \n",
      "Downloading data: 100%|██████████| 504k/504k [00:00<00:00, 1.44MB/s]\n",
      "Generating train split: 100%|██████████| 3968254/3968254 [00:22<00:00, 178590.88 examples/s]\n",
      "Generating test split: 100%|██████████| 1842/1842 [00:00<00:00, 187185.83 examples/s]\n"
     ]
    }
   ],
   "source": [
    "data = datasets.load_dataset(\"liaad/PTradutor\")"
   ]
  },
  {
   "cell_type": "markdown",
   "metadata": {},
   "source": [
    "#### Count the number of tokens"
   ]
  },
  {
   "cell_type": "code",
   "execution_count": 3,
   "metadata": {},
   "outputs": [],
   "source": [
    "encoder = tiktoken.get_encoding(\"cl100k_base\")"
   ]
  },
  {
   "cell_type": "markdown",
   "metadata": {},
   "source": [
    "On the train set."
   ]
  },
  {
   "cell_type": "code",
   "execution_count": 4,
   "metadata": {},
   "outputs": [
    {
     "name": "stdout",
     "output_type": "stream",
     "text": [
      "Number of tokens in the training set in english: 322256277\n"
     ]
    }
   ],
   "source": [
    "n_tokens_train_en = sum(len(encoder.encode(example[\"en\"])) for example in data[\"train\"])\n",
    "print(f\"Number of tokens in the training set in english: {n_tokens_train_en}\")"
   ]
  },
  {
   "cell_type": "code",
   "execution_count": 5,
   "metadata": {},
   "outputs": [
    {
     "name": "stdout",
     "output_type": "stream",
     "text": [
      "Number of tokens in the training set in portuguese: 424131611\n"
     ]
    }
   ],
   "source": [
    "n_tokens_train_pt = sum(len(encoder.encode(example[\"pt\"])) for example in data[\"train\"])\n",
    "print(f\"Number of tokens in the training set in portuguese: {n_tokens_train_pt}\")"
   ]
  },
  {
   "cell_type": "code",
   "execution_count": 6,
   "metadata": {},
   "outputs": [
    {
     "name": "stdout",
     "output_type": "stream",
     "text": [
      "Number of tokens in the training set in total: 746387888\n"
     ]
    }
   ],
   "source": [
    "print(f\"Number of tokens in the training set in total: {n_tokens_train_en + n_tokens_train_pt}\")"
   ]
  },
  {
   "cell_type": "markdown",
   "metadata": {},
   "source": [
    "On the test set."
   ]
  },
  {
   "cell_type": "code",
   "execution_count": 7,
   "metadata": {},
   "outputs": [
    {
     "name": "stdout",
     "output_type": "stream",
     "text": [
      "Number of tokens in the test set in english: 74969\n"
     ]
    }
   ],
   "source": [
    "n_tokens_test_en = sum(len(encoder.encode(example[\"en\"])) for example in data[\"test\"])\n",
    "print(f\"Number of tokens in the test set in english: {n_tokens_test_en}\")"
   ]
  },
  {
   "cell_type": "code",
   "execution_count": 8,
   "metadata": {},
   "outputs": [
    {
     "name": "stdout",
     "output_type": "stream",
     "text": [
      "Number of tokens in the test set in portuguese: 101001\n"
     ]
    }
   ],
   "source": [
    "n_tokens_test_pt = sum(len(encoder.encode(example[\"pt\"])) for example in data[\"test\"])\n",
    "print(f\"Number of tokens in the test set in portuguese: {n_tokens_test_pt}\")"
   ]
  }
 ],
 "metadata": {
  "kernelspec": {
   "display_name": "Python 3",
   "language": "python",
   "name": "python3"
  },
  "language_info": {
   "codemirror_mode": {
    "name": "ipython",
    "version": 3
   },
   "file_extension": ".py",
   "mimetype": "text/x-python",
   "name": "python",
   "nbconvert_exporter": "python",
   "pygments_lexer": "ipython3",
   "version": "3.11.8"
  }
 },
 "nbformat": 4,
 "nbformat_minor": 2
}
