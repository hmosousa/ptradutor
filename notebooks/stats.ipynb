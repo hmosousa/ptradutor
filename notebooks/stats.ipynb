{
 "cells": [
  {
   "cell_type": "code",
   "execution_count": 1,
   "metadata": {},
   "outputs": [
    {
     "name": "stderr",
     "output_type": "stream",
     "text": [
      "/home/hmosousa/Projects/tradutor_dataset/.conda/lib/python3.11/site-packages/tqdm/auto.py:21: TqdmWarning: IProgress not found. Please update jupyter and ipywidgets. See https://ipywidgets.readthedocs.io/en/stable/user_install.html\n",
      "  from .autonotebook import tqdm as notebook_tqdm\n"
     ]
    }
   ],
   "source": [
    "import datasets\n",
    "import tiktoken"
   ]
  },
  {
   "cell_type": "code",
   "execution_count": 2,
   "metadata": {},
   "outputs": [
    {
     "name": "stderr",
     "output_type": "stream",
     "text": [
      "Downloading readme: 100%|██████████| 614/614 [00:00<00:00, 1.84MB/s]\n",
      "Downloading data: 100%|██████████| 241M/241M [00:04<00:00, 54.7MB/s] \n",
      "Downloading data: 100%|██████████| 124M/124M [00:02<00:00, 46.0MB/s] \n",
      "Downloading data: 100%|██████████| 124M/124M [00:02<00:00, 52.9MB/s] \n",
      "Downloading data: 100%|██████████| 201M/201M [00:03<00:00, 54.9MB/s] \n",
      "Downloading data: 100%|██████████| 625M/625M [00:09<00:00, 65.2MB/s] \n",
      "Downloading data: 100%|██████████| 624M/624M [00:08<00:00, 69.6MB/s] \n",
      "Downloading data: 100%|██████████| 92.4k/92.4k [00:00<00:00, 291kB/s]\n",
      "Downloading data: 100%|██████████| 503k/503k [00:00<00:00, 1.58MB/s]\n",
      "Generating train split: 100%|██████████| 3945010/3945010 [00:20<00:00, 191891.08 examples/s]\n",
      "Generating valid split: 100%|██████████| 256/256 [00:00<00:00, 46325.90 examples/s]\n",
      "Generating test split: 100%|██████████| 1841/1841 [00:00<00:00, 206137.74 examples/s]\n"
     ]
    }
   ],
   "source": [
    "data = datasets.load_dataset(\"liaad/PTradutor\")"
   ]
  },
  {
   "cell_type": "markdown",
   "metadata": {},
   "source": [
    "#### Count the number of tokens"
   ]
  },
  {
   "cell_type": "code",
   "execution_count": 3,
   "metadata": {},
   "outputs": [],
   "source": [
    "encoder = tiktoken.get_encoding(\"cl100k_base\")"
   ]
  },
  {
   "cell_type": "markdown",
   "metadata": {},
   "source": [
    "On the train set."
   ]
  },
  {
   "cell_type": "code",
   "execution_count": 4,
   "metadata": {},
   "outputs": [
    {
     "name": "stdout",
     "output_type": "stream",
     "text": [
      "Number of tokens in the training set in english: 307348193\n"
     ]
    }
   ],
   "source": [
    "n_tokens_train_en = sum(len(encoder.encode(example[\"en\"])) for example in data[\"train\"])\n",
    "print(f\"Number of tokens in the training set in english: {n_tokens_train_en}\")"
   ]
  },
  {
   "cell_type": "code",
   "execution_count": 5,
   "metadata": {},
   "outputs": [
    {
     "name": "stdout",
     "output_type": "stream",
     "text": [
      "Number of tokens in the training set in portuguese: 404133911\n"
     ]
    }
   ],
   "source": [
    "n_tokens_train_pt = sum(len(encoder.encode(example[\"pt\"])) for example in data[\"train\"])\n",
    "print(f\"Number of tokens in the training set in portuguese: {n_tokens_train_pt}\")"
   ]
  },
  {
   "cell_type": "code",
   "execution_count": 6,
   "metadata": {},
   "outputs": [
    {
     "name": "stdout",
     "output_type": "stream",
     "text": [
      "Number of tokens in the training set in total: 711482104\n"
     ]
    }
   ],
   "source": [
    "print(f\"Number of tokens in the training set in total: {n_tokens_train_en + n_tokens_train_pt}\")"
   ]
  },
  {
   "cell_type": "markdown",
   "metadata": {},
   "source": [
    "On the test set."
   ]
  },
  {
   "cell_type": "code",
   "execution_count": 7,
   "metadata": {},
   "outputs": [
    {
     "name": "stdout",
     "output_type": "stream",
     "text": [
      "Number of tokens in the test set in english: 74899\n"
     ]
    }
   ],
   "source": [
    "n_tokens_test_en = sum(len(encoder.encode(example[\"en\"])) for example in data[\"test\"])\n",
    "print(f\"Number of tokens in the test set in english: {n_tokens_test_en}\")"
   ]
  },
  {
   "cell_type": "code",
   "execution_count": 8,
   "metadata": {},
   "outputs": [
    {
     "name": "stdout",
     "output_type": "stream",
     "text": [
      "Number of tokens in the test set in portuguese: 100911\n"
     ]
    }
   ],
   "source": [
    "n_tokens_test_pt = sum(len(encoder.encode(example[\"pt\"])) for example in data[\"test\"])\n",
    "print(f\"Number of tokens in the test set in portuguese: {n_tokens_test_pt}\")"
   ]
  }
 ],
 "metadata": {
  "kernelspec": {
   "display_name": "Python 3",
   "language": "python",
   "name": "python3"
  },
  "language_info": {
   "codemirror_mode": {
    "name": "ipython",
    "version": 3
   },
   "file_extension": ".py",
   "mimetype": "text/x-python",
   "name": "python",
   "nbconvert_exporter": "python",
   "pygments_lexer": "ipython3",
   "version": "3.11.8"
  }
 },
 "nbformat": 4,
 "nbformat_minor": 2
}
