{
 "cells": [
  {
   "cell_type": "code",
   "execution_count": 1,
   "metadata": {},
   "outputs": [
    {
     "name": "stderr",
     "output_type": "stream",
     "text": [
      "/home/hmosousa/Projects/tradutor_dataset/.conda/lib/python3.11/site-packages/tqdm/auto.py:21: TqdmWarning: IProgress not found. Please update jupyter and ipywidgets. See https://ipywidgets.readthedocs.io/en/stable/user_install.html\n",
      "  from .autonotebook import tqdm as notebook_tqdm\n"
     ]
    }
   ],
   "source": [
    "import datasets\n",
    "import tiktoken"
   ]
  },
  {
   "cell_type": "code",
   "execution_count": 2,
   "metadata": {},
   "outputs": [
    {
     "name": "stderr",
     "output_type": "stream",
     "text": [
      "Downloading readme: 100%|██████████| 513/513 [00:00<00:00, 1.41MB/s]\n",
      "Downloading data: 100%|██████████| 295M/295M [00:05<00:00, 50.4MB/s] \n",
      "Downloading data: 100%|██████████| 102M/102M [00:02<00:00, 41.9MB/s] \n",
      "Downloading data: 100%|██████████| 286M/286M [00:06<00:00, 46.3MB/s] \n",
      "Downloading data: 100%|██████████| 504k/504k [00:00<00:00, 775kB/s]\n",
      "Generating train split: 100%|██████████| 1587354/1587354 [00:07<00:00, 204386.83 examples/s]\n",
      "Generating test split: 100%|██████████| 1842/1842 [00:00<00:00, 192723.71 examples/s]\n"
     ]
    }
   ],
   "source": [
    "data = datasets.load_dataset(\"liaad/PTradutor\")"
   ]
  },
  {
   "cell_type": "markdown",
   "metadata": {},
   "source": [
    "#### Count the number of tokens"
   ]
  },
  {
   "cell_type": "code",
   "execution_count": 3,
   "metadata": {},
   "outputs": [],
   "source": [
    "encoder = tiktoken.get_encoding(\"cl100k_base\")"
   ]
  },
  {
   "cell_type": "markdown",
   "metadata": {},
   "source": [
    "On the train set."
   ]
  },
  {
   "cell_type": "code",
   "execution_count": 4,
   "metadata": {},
   "outputs": [
    {
     "name": "stdout",
     "output_type": "stream",
     "text": [
      "Number of tokens in the training set in english: 112059153\n"
     ]
    }
   ],
   "source": [
    "n_tokens_train_en = sum(len(encoder.encode(example[\"en\"])) for example in data[\"train\"])\n",
    "print(f\"Number of tokens in the training set in english: {n_tokens_train_en}\")"
   ]
  },
  {
   "cell_type": "code",
   "execution_count": 5,
   "metadata": {},
   "outputs": [
    {
     "name": "stdout",
     "output_type": "stream",
     "text": [
      "Number of tokens in the training set in portuguese: 146798211\n"
     ]
    }
   ],
   "source": [
    "n_tokens_train_pt = sum(len(encoder.encode(example[\"pt\"])) for example in data[\"train\"])\n",
    "print(f\"Number of tokens in the training set in portuguese: {n_tokens_train_pt}\")"
   ]
  },
  {
   "cell_type": "code",
   "execution_count": 6,
   "metadata": {},
   "outputs": [
    {
     "name": "stdout",
     "output_type": "stream",
     "text": [
      "Number of tokens in the training set in total: 258857364\n"
     ]
    }
   ],
   "source": [
    "print(f\"Number of tokens in the training set in total: {n_tokens_train_en + n_tokens_train_pt}\")"
   ]
  },
  {
   "cell_type": "markdown",
   "metadata": {},
   "source": [
    "On the test set."
   ]
  },
  {
   "cell_type": "code",
   "execution_count": 7,
   "metadata": {},
   "outputs": [
    {
     "name": "stdout",
     "output_type": "stream",
     "text": [
      "Number of tokens in the test set in english: 74969\n"
     ]
    }
   ],
   "source": [
    "n_tokens_test_en = sum(len(encoder.encode(example[\"en\"])) for example in data[\"test\"])\n",
    "print(f\"Number of tokens in the test set in english: {n_tokens_test_en}\")"
   ]
  },
  {
   "cell_type": "code",
   "execution_count": 8,
   "metadata": {},
   "outputs": [
    {
     "name": "stdout",
     "output_type": "stream",
     "text": [
      "Number of tokens in the test set in portuguese: 101001\n"
     ]
    }
   ],
   "source": [
    "n_tokens_test_pt = sum(len(encoder.encode(example[\"pt\"])) for example in data[\"test\"])\n",
    "print(f\"Number of tokens in the test set in portuguese: {n_tokens_test_pt}\")"
   ]
  }
 ],
 "metadata": {
  "kernelspec": {
   "display_name": "Python 3",
   "language": "python",
   "name": "python3"
  },
  "language_info": {
   "codemirror_mode": {
    "name": "ipython",
    "version": 3
   },
   "file_extension": ".py",
   "mimetype": "text/x-python",
   "name": "python",
   "nbconvert_exporter": "python",
   "pygments_lexer": "ipython3",
   "version": "3.11.8"
  }
 },
 "nbformat": 4,
 "nbformat_minor": 2
}
